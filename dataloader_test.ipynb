{
 "cells": [
  {
   "cell_type": "code",
   "execution_count": 2,
   "metadata": {},
   "outputs": [],
   "source": [
    "from pydlshogi2.dataloader import HcpeDataLoader\n",
    "import torch"
   ]
  },
  {
   "cell_type": "code",
   "execution_count": 3,
   "metadata": {},
   "outputs": [],
   "source": [
    "device = torch.device(\"cuda\" if torch.cuda.is_available() else \"cpu\")\n",
    "batchsize = 512\n",
    "train_data = \"/workspace/train1.hcpe\""
   ]
  },
  {
   "cell_type": "code",
   "execution_count": 4,
   "metadata": {},
   "outputs": [],
   "source": [
    "train_dataloader = HcpeDataLoader(train_data, batchsize, device, shuffle=True)"
   ]
  },
  {
   "cell_type": "code",
   "execution_count": 16,
   "metadata": {},
   "outputs": [
    {
     "name": "stdout",
     "output_type": "stream",
     "text": [
      "torch.Size([512, 104, 9, 9])\n",
      "tensor(304, device='cuda:0')\n",
      "torch.Size([512, 1])\n",
      "tensor(1689, device='cuda:0', dtype=torch.int32)\n"
     ]
    }
   ],
   "source": [
    "for x, move_label, result, index in train_dataloader:\n",
    "    print(x.shape)\n",
    "    print(move_label[0])\n",
    "    print(result.shape)\n",
    "    print(index[1])\n",
    "    break"
   ]
  },
  {
   "cell_type": "code",
   "execution_count": 5,
   "metadata": {},
   "outputs": [],
   "source": [
    "import numpy as np\n",
    "dtypeHcp = np.dtype((np.uint8, 32))\n",
    "dtypeEval = np.dtype(np.int16)\n",
    "dtypeMove16 = np.dtype(np.int16)\n",
    "dtypeGameResult = np.dtype(np.int8)\n",
    "\n",
    "HuffmanCodedPosAndEvalComment = np.dtype(\n",
    "    [('hcp', dtypeHcp),\n",
    "     ('eval', dtypeEval),\n",
    "     ('bestMove16', dtypeMove16),\n",
    "     ('gameResult', dtypeGameResult),\n",
    "     ('dummy', np.uint8),\n",
    "     ('comment_index', np.int32),\n",
    "\t])\n",
    "\n",
    "def load_hcpe_file(filepath):\n",
    "    # ファイルを HuffmanCodedPosAndEval の形式で読み取る\n",
    "    data = np.fromfile(filepath, dtype=HuffmanCodedPosAndEvalComment)\n",
    "    return data"
   ]
  },
  {
   "cell_type": "code",
   "execution_count": 17,
   "metadata": {},
   "outputs": [
    {
     "name": "stdout",
     "output_type": "stream",
     "text": [
      "0\n",
      "1\n",
      "2\n",
      "2\n",
      "3\n",
      "4\n",
      "5\n",
      "6\n",
      "7\n",
      "8\n"
     ]
    }
   ],
   "source": [
    "# 使用例\n",
    "hcpe_data = load_hcpe_file(\"/workspace/train1.hcpe\")\n",
    "\n",
    "# データの内容を確認\n",
    "for i, record in enumerate(hcpe_data[:10]):  # 最初の10レコードを表示\n",
    "    print(record[\"comment_index\"])"
   ]
  },
  {
   "cell_type": "code",
   "execution_count": null,
   "metadata": {},
   "outputs": [],
   "source": []
  }
 ],
 "metadata": {
  "kernelspec": {
   "display_name": "Python 3",
   "language": "python",
   "name": "python3"
  },
  "language_info": {
   "codemirror_mode": {
    "name": "ipython",
    "version": 3
   },
   "file_extension": ".py",
   "mimetype": "text/x-python",
   "name": "python",
   "nbconvert_exporter": "python",
   "pygments_lexer": "ipython3",
   "version": "3.10.6"
  }
 },
 "nbformat": 4,
 "nbformat_minor": 2
}
